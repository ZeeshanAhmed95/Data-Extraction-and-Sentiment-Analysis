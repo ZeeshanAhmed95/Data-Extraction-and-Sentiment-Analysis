{
  "nbformat": 4,
  "nbformat_minor": 0,
  "metadata": {
    "colab": {
      "provenance": [],
      "include_colab_link": true
    },
    "kernelspec": {
      "name": "python3",
      "display_name": "Python 3"
    },
    "language_info": {
      "name": "python"
    }
  },
  "cells": [
    {
      "cell_type": "markdown",
      "metadata": {
        "id": "view-in-github",
        "colab_type": "text"
      },
      "source": [
        "<a href=\"https://colab.research.google.com/github/ZeeshanAhmed95/Data-Extraction-and-Sentiment-Analysis/blob/main/Zeeshan_Blackcoffer_Projectipynb.ipynb\" target=\"_parent\"><img src=\"https://colab.research.google.com/assets/colab-badge.svg\" alt=\"Open In Colab\"/></a>"
      ]
    },
    {
      "cell_type": "code",
      "execution_count": null,
      "metadata": {
        "id": "Qc6rCk68pjiI"
      },
      "outputs": [],
      "source": [
        "#importing library\n",
        "import pandas as pd\n",
        "import requests\n",
        "from bs4 import BeautifulSoup\n",
        "import numpy as np\n",
        "from google.colab import files"
      ]
    },
    {
      "cell_type": "code",
      "source": [
        "from google.colab import drive\n",
        "drive.mount('/content/drive')"
      ],
      "metadata": {
        "colab": {
          "base_uri": "https://localhost:8080/"
        },
        "id": "EZOpO9Wr2N-q",
        "outputId": "1368b9ff-6cd3-4c3d-bcf4-ef557bf06745"
      },
      "execution_count": null,
      "outputs": [
        {
          "output_type": "stream",
          "name": "stdout",
          "text": [
            "Mounted at /content/drive\n"
          ]
        }
      ]
    },
    {
      "cell_type": "code",
      "source": [
        "#importing input file\n",
        "df_project=pd.read_excel('/content/drive/MyDrive/Input.xlsx')[['URL_ID','URL']]"
      ],
      "metadata": {
        "id": "j3wAqjmppkVC"
      },
      "execution_count": null,
      "outputs": []
    },
    {
      "cell_type": "code",
      "source": [
        "#dropping a column\n",
        "df_project.drop('URL_ID',axis=1,inplace=True)"
      ],
      "metadata": {
        "id": "m_-j2x4j3W-G"
      },
      "execution_count": null,
      "outputs": []
    },
    {
      "cell_type": "code",
      "source": [
        "#viewing data in dataframe\n",
        "df_project['URL'][0]"
      ],
      "metadata": {
        "colab": {
          "base_uri": "https://localhost:8080/",
          "height": 35
        },
        "id": "_WzInOmN1qFt",
        "outputId": "879cb764-713d-4053-f253-6b006327258d"
      },
      "execution_count": null,
      "outputs": [
        {
          "output_type": "execute_result",
          "data": {
            "text/plain": [
              "'https://insights.blackcoffer.com/ai-in-healthcare-to-improve-patient-outcomes/'"
            ],
            "application/vnd.google.colaboratory.intrinsic+json": {
              "type": "string"
            }
          },
          "metadata": {},
          "execution_count": 6
        }
      ]
    },
    {
      "cell_type": "markdown",
      "source": [
        "# Data extraction"
      ],
      "metadata": {
        "id": "G0qbaPKada0c"
      }
    },
    {
      "cell_type": "code",
      "source": [
        "#performing data extraction on a single URL\n",
        "j=df_project['URL'][40]\n",
        "   \n",
        "headers={'User-Agent': 'Mozilla/5.0 (Windows NT 10.0; Win64; x64) AppleWebKit/537.36 (KHTML, like Gecko) Chrome/74.0.3729.169 Safari/537.36'}#giving user access\n",
        "page=requests.get(j,headers=headers)#loading text in url\n",
        "soup=BeautifulSoup(page.content,'html.parser')#parsing url text\n",
        "content=soup.findAll(attrs={'class':'td-post-content'})#extracting only text part\n",
        "content=content[0].text.replace('<p>',\" \").replace('\\n',\" \").replace('\\xa0',' ')#replace end line symbol with space \n",
        "title=soup.findAll(attrs={'class':'entry-title'})#extracting title of website\n",
        "print(title)"
      ],
      "metadata": {
        "colab": {
          "base_uri": "https://localhost:8080/"
        },
        "id": "n8uRvYt97Yl4",
        "outputId": "b0800afc-555f-4bd7-c645-2b1cd865b149"
      },
      "execution_count": null,
      "outputs": [
        {
          "output_type": "stream",
          "name": "stdout",
          "text": [
            "[<h3 class=\"entry-title td-module-title\"><a href=\"https://insights.blackcoffer.com/ranking-customer-behaviours-for-business-strategy/\" rel=\"bookmark\" title=\"Ranking customer behaviours for business strategy\">Ranking customer behaviours for business strategy</a></h3>, <h3 class=\"entry-title td-module-title\"><a href=\"https://insights.blackcoffer.com/algorithmic-trading-for-multiple-commodities-markets-like-forex-metals-energy-etc/\" rel=\"bookmark\" title=\"Algorithmic trading for multiple commodities markets, like Forex, Metals, Energy, etc.\">Algorithmic trading for multiple commodities markets, like Forex, Metals, Energy, etc.</a></h3>, <h3 class=\"entry-title td-module-title\"><a href=\"https://insights.blackcoffer.com/trading-bot-for-forex/\" rel=\"bookmark\" title=\"Trading Bot for FOREX\">Trading Bot for FOREX</a></h3>, <h3 class=\"entry-title td-module-title\"><a href=\"https://insights.blackcoffer.com/python-model-for-the-analysis-of-sector-specific-stock-etfs-for-investment-purposes%ef%bf%bc/\" rel=\"bookmark\" title=\"Python model for the analysis of sector-specific stock ETFs for investment purposes\">Python model for the analysis of sector-specific stock ETFs for investment…</a></h3>, <h3 class=\"entry-title td-module-title\"><a href=\"https://insights.blackcoffer.com/playstore-appstore-to-google-analytics-ga-or-firebase-to-google-data-studio-mobile-app-kpi-dashboard/\" rel=\"bookmark\" title=\"Playstore &amp; Appstore to Google Analytics (GA) or Firebase to Google Data Studio Mobile App KPI Dashboard\">Playstore &amp; Appstore to Google Analytics (GA) or Firebase to Google…</a></h3>, <h3 class=\"entry-title td-module-title\"><a href=\"https://insights.blackcoffer.com/google-local-service-ads-lsa-api-to-google-bigquery-to-google-data-studio/\" rel=\"bookmark\" title=\"Google Local Service Ads LSA API To Google BigQuery to Google Data Studio\">Google Local Service Ads LSA API To Google BigQuery to Google…</a></h3>, <h3 class=\"entry-title td-module-title\"><a href=\"https://insights.blackcoffer.com/ai-conversational-bot-using-rasa/\" rel=\"bookmark\" title=\"AI Conversational Bot using RASA\">AI Conversational Bot using RASA</a></h3>, <h3 class=\"entry-title td-module-title\"><a href=\"https://insights.blackcoffer.com/recommendation-system-architecture/\" rel=\"bookmark\" title=\"Recommendation System Architecture\">Recommendation System Architecture</a></h3>, <h3 class=\"entry-title td-module-title\"><a href=\"https://insights.blackcoffer.com/rise-of-telemedicine-and-its-impact-on-livelihood-by-2040-3/\" rel=\"bookmark\" title=\"Rise of telemedicine and its Impact on Livelihood by 2040\">Rise of telemedicine and its Impact on Livelihood by 2040</a></h3>, <h3 class=\"entry-title td-module-title\"><a href=\"https://insights.blackcoffer.com/rise-of-e-health-and-its-impact-on-humans-by-the-year-2030/\" rel=\"bookmark\" title=\"Rise of e-health and its impact on humans by the year 2030\">Rise of e-health and its impact on humans by the year…</a></h3>, <h3 class=\"entry-title td-module-title\"><a href=\"https://insights.blackcoffer.com/rise-of-e-health-and-its-imapct-on-humans-by-the-year-2030-2/\" rel=\"bookmark\" title=\"Rise of e-health and its impact on humans by the year 2030\">Rise of e-health and its impact on humans by the year…</a></h3>, <h3 class=\"entry-title td-module-title\"><a href=\"https://insights.blackcoffer.com/rise-of-chatbots-and-its-impact-on-customer-support-by-the-year-2040-2/\" rel=\"bookmark\" title=\"Rise of Chatbots and its impact on customer support by the year 2040\">Rise of Chatbots and its impact on customer support by the…</a></h3>, <h3 class=\"entry-title td-module-title\"><a href=\"https://insights.blackcoffer.com/ai-ml-and-predictive-modeling/\" rel=\"bookmark\" title=\"AI/ML and Predictive Modeling\">AI/ML and Predictive Modeling</a></h3>, <h3 class=\"entry-title td-module-title\"><a href=\"https://insights.blackcoffer.com/solution-for-contact-centre-problems/\" rel=\"bookmark\" title=\"Solution for Contact Centre Problems\">Solution for Contact Centre Problems</a></h3>, <h3 class=\"entry-title td-module-title\"><a href=\"https://insights.blackcoffer.com/how-to-setup-custom-domain-for-google-app-engine-application/\" rel=\"bookmark\" title=\"How to Setup Custom Domain for Google App Engine Application?\">How to Setup Custom Domain for Google App Engine Application?</a></h3>, <h3 class=\"entry-title td-module-title\"><a href=\"https://insights.blackcoffer.com/code-review-checklist/\" rel=\"bookmark\" title=\"Code Review Checklist\">Code Review Checklist</a></h3>, <h1 class=\"entry-title\">Can You Be Great Leader Without Technical Expertise</h1>, <h3 class=\"entry-title td-module-title\"><a href=\"https://insights.blackcoffer.com/rise-of-telemedicine-and-its-impact-on-livelihood-by-2040-3/\" rel=\"bookmark\" title=\"Rise of telemedicine and its Impact on Livelihood by 2040\">Rise of telemedicine and its Impact on Livelihood by 2040</a></h3>, <h3 class=\"entry-title td-module-title\"><a href=\"https://insights.blackcoffer.com/rise-of-e-health-and-its-impact-on-humans-by-the-year-2030/\" rel=\"bookmark\" title=\"Rise of e-health and its impact on humans by the year 2030\">Rise of e-health and its impact on humans by the year 2030</a></h3>, <h3 class=\"entry-title td-module-title\"><a href=\"https://insights.blackcoffer.com/rise-of-e-health-and-its-imapct-on-humans-by-the-year-2030-2/\" rel=\"bookmark\" title=\"Rise of e-health and its impact on humans by the year 2030\">Rise of e-health and its impact on humans by the year 2030</a></h3>, <h3 class=\"entry-title td-module-title\"><a href=\"https://insights.blackcoffer.com/blockchain-for-payments/\" rel=\"bookmark\" title=\"Blockchain for Payments\">Blockchain for Payments</a></h3>, <h3 class=\"entry-title td-module-title\"><a href=\"https://insights.blackcoffer.com/marketing-analytics-to-automate-leads-call-status-and-reporting/\" rel=\"bookmark\" title=\"Marketing Analytics to Automate Leads Call Status and Reporting\">Marketing Analytics to Automate Leads Call Status and Reporting</a></h3>, <h3 class=\"entry-title td-module-title\"><a href=\"https://insights.blackcoffer.com/role-big-data-academia/\" rel=\"bookmark\" title=\"Role of Big Data in Academia\">Role of Big Data in Academia</a></h3>, <h3 class=\"entry-title td-module-title\"><a href=\"https://insights.blackcoffer.com/industrial-revolution-4-0-pros-and-cons/\" rel=\"bookmark\" title=\"INDUSTRIAL REVOLUTION 4.0 – PROS AND CONS\">INDUSTRIAL REVOLUTION 4.0 – PROS AND CONS</a></h3>, <h3 class=\"entry-title td-module-title\"><a href=\"https://insights.blackcoffer.com/which-one-is-better-ai-or-big-data/\" rel=\"bookmark\" title=\"Which one is better AI or big data?\">Which one is better AI or big data?</a></h3>, <h3 class=\"entry-title td-module-title\"><a href=\"https://insights.blackcoffer.com/rise-of-electric-vehicles-and-its-impact-on-livelihood-by-2040/\" rel=\"bookmark\" title=\"Rise of Electric Vehicles and its Impact on Livelihood by 2040\">Rise of Electric Vehicles and its Impact on Livelihood by 2040</a></h3>, <h3 class=\"entry-title td-module-title\"><a href=\"https://insights.blackcoffer.com/confirmatory-path-analysis-cfa/\" rel=\"bookmark\" title=\"Confirmatory Path Analysis (CFA)\">Confirmatory Path Analysis (CFA)</a></h3>, <h3 class=\"entry-title td-module-title\"><a href=\"https://insights.blackcoffer.com/iot-ai-ml-for-machine-tracking/\" rel=\"bookmark\" title=\"IOT, AI, ML for Machine Tracking\">IOT, AI, ML for Machine Tracking</a></h3>, <h3 class=\"entry-title td-module-title\"><a href=\"https://insights.blackcoffer.com/algorithmic-trading-for-multiple-commodities-markets-like-forex-metals-energy-etc/\" rel=\"bookmark\" title=\"Algorithmic trading for multiple commodities markets, like Forex, Metals, Energy, etc.\">Algorithmic trading for multiple commodities markets, like Forex, Metals, Energy, etc.</a></h3>, <h3 class=\"entry-title td-module-title\"><a href=\"https://insights.blackcoffer.com/trading-bot-for-forex/\" rel=\"bookmark\" title=\"Trading Bot for FOREX\">Trading Bot for FOREX</a></h3>, <h3 class=\"entry-title td-module-title\"><a href=\"https://insights.blackcoffer.com/python-model-for-the-analysis-of-sector-specific-stock-etfs-for-investment-purposes%ef%bf%bc/\" rel=\"bookmark\" title=\"Python model for the analysis of sector-specific stock ETFs for investment purposes\">Python model for the analysis of sector-specific stock ETFs for investment...</a></h3>, <h3 class=\"entry-title td-module-title\"><a href=\"https://insights.blackcoffer.com/ai-in-healthcare-to-improve-patient-outcomes/\" rel=\"bookmark\" title=\"AI in healthcare to Improve Patient Outcomes\">AI in healthcare to Improve Patient Outcomes</a></h3>, <h3 class=\"entry-title td-module-title\"><a href=\"https://insights.blackcoffer.com/how-is-login-logout-time-tracking-for-employees-in-office-done-by-ai/\" rel=\"bookmark\" title=\"How is Login Logout Time Tracking for Employees in Office done by AI?\">How is Login Logout Time Tracking for Employees in Office done...</a></h3>, <h3 class=\"entry-title td-module-title\"><a href=\"https://insights.blackcoffer.com/should-celebrities-be-allowed-to-join-politics/\" rel=\"bookmark\" title=\"Should celebrities be allowed to join politics?\">Should celebrities be allowed to join politics?</a></h3>, <h3 class=\"entry-title td-module-title\"><a href=\"https://insights.blackcoffer.com/rise-of-telemedicine-and-its-impact-on-livelihood-by-2040-3/\" rel=\"bookmark\" title=\"Rise of telemedicine and its Impact on Livelihood by 2040\">Rise of telemedicine and its Impact on Livelihood by 2040</a></h3>, <h3 class=\"entry-title td-module-title\"><a href=\"https://insights.blackcoffer.com/rise-of-e-health-and-its-impact-on-humans-by-the-year-2030/\" rel=\"bookmark\" title=\"Rise of e-health and its impact on humans by the year 2030\">Rise of e-health and its impact on humans by the year...</a></h3>]\n"
          ]
        }
      ]
    },
    {
      "cell_type": "code",
      "source": [
        "#extracting text from all the url\n",
        "main_df = pd.DataFrame()\n",
        "for i in range(len(df_project)):\n",
        "  #  print(i) \n",
        "   j=df_project['URL'][i]\n",
        "   \n",
        "   headers={'User-Agent': 'Mozilla/5.0 (Windows NT 10.0; Win64; x64) AppleWebKit/537.36 (KHTML, like Gecko) Chrome/74.0.3729.169 Safari/537.36'}#giving user access\n",
        "   page=requests.get(j,headers=headers)#loading text in url\n",
        "   soup=BeautifulSoup(page.content,'html.parser')#parsing url text\n",
        "   content=soup.findAll(attrs={'class':'td-post-content'})#extracting only text part\n",
        "   try:  \n",
        "    content=content[0].text.replace('<p>',\" \").replace('\\n',\" \").replace('\\xa0',' ')#replace end line symbol with space \n",
        "    title=soup.findAll(attrs={'class':'entry-title'})#extracting title of website\n",
        "\n",
        "    title=title[0].text.replace('\\n',\"  \").replace('/',\"\")\n",
        "    text=title+ '.' +content#merging title and content text\n",
        "    df1=pd.DataFrame(pd.Series(text),columns=['data'])#creating series data frame\n",
        "    main_df = pd.concat([df1,main_df],ignore_index=True)\n",
        "   \n",
        "   except:\n",
        "     print(i)\n",
        "     continue\n",
        "\n",
        "\n",
        "   "
      ],
      "metadata": {
        "id": "czsKjlCH3W32",
        "colab": {
          "base_uri": "https://localhost:8080/"
        },
        "outputId": "eb4261bc-ef28-4a00-f746-6e595b2c96b2"
      },
      "execution_count": null,
      "outputs": [
        {
          "output_type": "stream",
          "name": "stdout",
          "text": [
            "7\n",
            "20\n",
            "25\n",
            "107\n"
          ]
        }
      ]
    },
    {
      "cell_type": "code",
      "source": [
        "#visualizing shape of the dataframe \n",
        "main_df.shape"
      ],
      "metadata": {
        "colab": {
          "base_uri": "https://localhost:8080/"
        },
        "id": "ydrm499awRyP",
        "outputId": "34077600-d723-4d40-d9a8-2a64bff4b5d9"
      },
      "execution_count": null,
      "outputs": [
        {
          "output_type": "execute_result",
          "data": {
            "text/plain": [
              "(110, 1)"
            ]
          },
          "metadata": {},
          "execution_count": 11
        }
      ]
    },
    {
      "cell_type": "markdown",
      "source": [
        "# Data analysis"
      ],
      "metadata": {
        "id": "ETT5Ce93dW3E"
      }
    },
    {
      "cell_type": "code",
      "source": [
        "#information of data frame\n",
        "main_df.info()"
      ],
      "metadata": {
        "colab": {
          "base_uri": "https://localhost:8080/"
        },
        "id": "99yHj18o_iDU",
        "outputId": "f54f0130-13cb-4dc9-eae1-82ef865290f5"
      },
      "execution_count": null,
      "outputs": [
        {
          "output_type": "stream",
          "name": "stdout",
          "text": [
            "<class 'pandas.core.frame.DataFrame'>\n",
            "RangeIndex: 110 entries, 0 to 109\n",
            "Data columns (total 1 columns):\n",
            " #   Column  Non-Null Count  Dtype \n",
            "---  ------  --------------  ----- \n",
            " 0   data    110 non-null    object\n",
            "dtypes: object(1)\n",
            "memory usage: 1008.0+ bytes\n"
          ]
        }
      ]
    },
    {
      "cell_type": "code",
      "source": [
        "main_df = main_df['data'].str.replace(\"Ranking customer behaviours for business strategy.\",\"\")"
      ],
      "metadata": {
        "colab": {
          "base_uri": "https://localhost:8080/"
        },
        "id": "v2r_r2V94Gn3",
        "outputId": "ef066eda-a4ec-4142-e0b0-5e02971dd10f"
      },
      "execution_count": null,
      "outputs": [
        {
          "output_type": "stream",
          "name": "stderr",
          "text": [
            "<ipython-input-13-026d50e3ba9b>:1: FutureWarning: The default value of regex will change from True to False in a future version.\n",
            "  main_df = main_df['data'].str.replace(\"Ranking customer behaviours for business strategy.\",\"\")\n"
          ]
        }
      ]
    },
    {
      "cell_type": "code",
      "source": [
        "main_df=pd.DataFrame(main_df,columns=['data'])"
      ],
      "metadata": {
        "id": "mhe50_lB6IcR"
      },
      "execution_count": null,
      "outputs": []
    },
    {
      "cell_type": "code",
      "source": [
        "main_df['data']"
      ],
      "metadata": {
        "colab": {
          "base_uri": "https://localhost:8080/"
        },
        "id": "blHMjX386OOQ",
        "outputId": "211ded1d-00f6-4554-f8e7-89772282b3b8"
      },
      "execution_count": null,
      "outputs": [
        {
          "output_type": "execute_result",
          "data": {
            "text/plain": [
              "0       Big Data To begin with I shall first like to ...\n",
              "1       Analytics is a statistical scientific process...\n",
              "2       Quality and affordable healthcare is a vision...\n",
              "3       What Is an Investment? An investment is a res...\n",
              "4       Reconciling with the financial realities of a...\n",
              "                             ...                        \n",
              "105     “Machine intelligence is the last invention t...\n",
              "106     “Anything that could give rise to smarter-tha...\n",
              "107     Introduction AI is rapidly evolving in the em...\n",
              "108     Human minds, a fascination in itself carrying...\n",
              "109     Introduction “If anything kills over 10 milli...\n",
              "Name: data, Length: 110, dtype: object"
            ]
          },
          "metadata": {},
          "execution_count": 18
        }
      ]
    },
    {
      "cell_type": "code",
      "source": [
        "#creating new dataframe\n",
        "df = pd.DataFrame()"
      ],
      "metadata": {
        "id": "TH8hbDT56TQw"
      },
      "execution_count": null,
      "outputs": []
    },
    {
      "cell_type": "code",
      "source": [
        "#converting text to sentence\n",
        "import re\n",
        "#splitting text on '.'\n",
        "df['data']= main_df['data'].apply(lambda x: x.split('([\\.]\\s)'))\n"
      ],
      "metadata": {
        "id": "KCDJzEnU7Ogk"
      },
      "execution_count": null,
      "outputs": []
    },
    {
      "cell_type": "code",
      "source": [
        "df.iloc[0]"
      ],
      "metadata": {
        "colab": {
          "base_uri": "https://localhost:8080/"
        },
        "id": "s9B3yn9Ai5sL",
        "outputId": "7fe2b8ca-8be0-4243-f9a7-20e73a7b2b27"
      },
      "execution_count": null,
      "outputs": [
        {
          "output_type": "execute_result",
          "data": {
            "text/plain": [
              "data    [ Big Data To begin with I shall first like to...\n",
              "Name: 0, dtype: object"
            ]
          },
          "metadata": {},
          "execution_count": 22
        }
      ]
    },
    {
      "cell_type": "code",
      "source": [
        "#removing . char from each rows\n",
        "def abcd(x):    \n",
        "    nopunc =[char for char in x if char != '.']\n",
        "    return ''.join(nopunc)\n",
        "df['data']=df['data'].apply(abcd)\n"
      ],
      "metadata": {
        "id": "-V-qW6SbTQMW"
      },
      "execution_count": null,
      "outputs": []
    },
    {
      "cell_type": "code",
      "source": [
        "#replacing empty space with null values\n",
        "df=df.replace('',np.nan,regex=True)\n",
        "df=df.mask(df==\" \")\n",
        "df=df.dropna()\n",
        "df.reset_index(drop=True,inplace=True)"
      ],
      "metadata": {
        "id": "NYwn1576looc"
      },
      "execution_count": null,
      "outputs": []
    },
    {
      "cell_type": "code",
      "source": [
        "#importing nltk library and stopwords\n",
        "import nltk\n",
        "import string\n"
      ],
      "metadata": {
        "id": "iyBSH3bJc3ms"
      },
      "execution_count": null,
      "outputs": []
    },
    {
      "cell_type": "code",
      "source": [
        "punc=[punc for punc in string.punctuation]"
      ],
      "metadata": {
        "id": "WLtSU4mXm4Rp"
      },
      "execution_count": null,
      "outputs": []
    },
    {
      "cell_type": "code",
      "source": [
        "#importing stop words files that are provided\n",
        "SW_Auditor=pd.read_csv(\"/content/drive/MyDrive/StopWords_Auditor.txt\",header=None)\n",
        "SW_Currencies=pd.read_csv(\"/content/drive/MyDrive/StopWords_Currencies.txt\",header=None,encoding=\"ISO-8859-1\",sep='\\n' )\n",
        "SW_DatesandNumbers=pd.read_csv(\"/content/drive/MyDrive/StopWords_DatesandNumbers.txt\",header=None)\n",
        "SW_Generic=pd.read_csv(\"/content/drive/MyDrive/StopWords_Generic.txt\",header=None)\n",
        "SW_GenericLong=pd.read_csv(\"/content/drive/MyDrive/StopWords_GenericLong.txt\",header=None)\n",
        "SW_Geographic=pd.read_csv(\"/content/drive/MyDrive/StopWords_Geographic.txt\",header=None)\n",
        "SW_Names=pd.read_csv(\"/content/drive/MyDrive/StopWords_Names.txt\",header=None)\n"
      ],
      "metadata": {
        "id": "s1xGY76Fm4OB"
      },
      "execution_count": null,
      "outputs": []
    },
    {
      "cell_type": "code",
      "source": [
        "#creating func for removing stop words\n",
        "def text_process(text):\n",
        "    nopunc =[char for char in text if char not in punc or char not in [':',',','(',')','’','?']]\n",
        "    nopunc=''.join(nopunc)\n",
        "    txt=' '.join([word for word in nopunc.split() if word.lower() not in SW_Auditor])\n",
        "    txt1=' '.join([word for word in txt.split() if word.lower() not in SW_Currencies])\n",
        "    txt2=' '.join([word for word in txt1.split() if word.lower() not in SW_DatesandNumbers])\n",
        "    txt3=' '.join([word for word in txt2.split() if word.lower() not in SW_Generic])\n",
        "    txt4=' '.join([word for word in txt3.split() if word.lower() not in SW_GenericLong])\n",
        "    txt5=' '.join([word for word in txt4.split() if word.lower() not in SW_Geographic])\n",
        "    return ' '.join([word for word in txt5.split() if word.lower() not in SW_Names])\n"
      ],
      "metadata": {
        "id": "sX1qAALqm4Kz"
      },
      "execution_count": null,
      "outputs": []
    },
    {
      "cell_type": "code",
      "source": [
        "#applying func for each row\n",
        "df['data']=df['data'].apply(text_process)"
      ],
      "metadata": {
        "id": "RH0fzgVym4H6"
      },
      "execution_count": null,
      "outputs": []
    },
    {
      "cell_type": "code",
      "source": [
        "#importing master Dictionary\n",
        "positive=pd.read_csv(\"/content/drive/MyDrive/positive-words.txt\",header=None)\n",
        "negative=pd.read_csv(\"/content/drive/MyDrive/negative-words.txt\",header=None,encoding=\"ISO-8859-1\",sep='\\n' )\n"
      ],
      "metadata": {
        "id": "s-ccXyf4IaeY"
      },
      "execution_count": null,
      "outputs": []
    },
    {
      "cell_type": "code",
      "source": [
        "positive.columns=['pos']\n",
        "negative.columns=['neg']\n",
        "positive['pos']=positive['pos'].astype(str)\n",
        "negative['neg']=negative['neg'].astype(str)"
      ],
      "metadata": {
        "id": "jKpEw9KuH8vh"
      },
      "execution_count": null,
      "outputs": []
    },
    {
      "cell_type": "code",
      "source": [
        "#positive and negative dictionary without stopwords\n",
        "positive['pos']=positive['pos'].apply(text_process)\n",
        "negative['neg']=negative['neg'].apply(text_process)"
      ],
      "metadata": {
        "id": "Cit_gYSDSm6p"
      },
      "execution_count": null,
      "outputs": []
    },
    {
      "cell_type": "code",
      "source": [
        "#positive list\n",
        "length=positive.shape[0]\n",
        "pos=[]\n",
        "for i in range(0,length):\n",
        "   nopunc =[char for char in positive.iloc[i] if char not in string.punctuation or char != '+']\n",
        "   nopunc=''.join(nopunc)\n",
        "\n",
        "   pos.append(nopunc)"
      ],
      "metadata": {
        "id": "9BZR-CHpVIwx"
      },
      "execution_count": null,
      "outputs": []
    },
    {
      "cell_type": "code",
      "source": [
        "#negative list\n",
        "length=negative.shape[0]\n",
        "neg=[]\n",
        "for i in range(0,length):\n",
        "  nopunc =[char for char in negative.iloc[i] if char not in string.punctuation or char != '+']\n",
        "  nopunc=''.join(nopunc)\n",
        "  neg.append(nopunc)"
      ],
      "metadata": {
        "id": "RDz17VIAPp8Q"
      },
      "execution_count": null,
      "outputs": []
    },
    {
      "cell_type": "markdown",
      "source": [
        "# TOKENIZATION"
      ],
      "metadata": {
        "id": "dPlNw-TFLPUR"
      }
    },
    {
      "cell_type": "code",
      "source": [
        "#importing tokenize library\n",
        "from nltk.tokenize import word_tokenize"
      ],
      "metadata": {
        "id": "sQ4IRcm1RseT"
      },
      "execution_count": null,
      "outputs": []
    },
    {
      "cell_type": "code",
      "source": [
        "import nltk\n",
        "nltk.download('punkt')"
      ],
      "metadata": {
        "colab": {
          "base_uri": "https://localhost:8080/"
        },
        "id": "sN2DdvUEa6mj",
        "outputId": "a7f497b8-b7c8-4b9d-e744-b3cdf9a5bd24"
      },
      "execution_count": null,
      "outputs": [
        {
          "output_type": "stream",
          "name": "stderr",
          "text": [
            "[nltk_data] Downloading package punkt to /root/nltk_data...\n",
            "[nltk_data]   Unzipping tokenizers/punkt.zip.\n"
          ]
        },
        {
          "output_type": "execute_result",
          "data": {
            "text/plain": [
              "True"
            ]
          },
          "metadata": {},
          "execution_count": 40
        }
      ]
    },
    {
      "cell_type": "code",
      "source": [
        "df['tokenized_sents'] = df.apply(lambda row: nltk.word_tokenize(row['data']), axis=1)"
      ],
      "metadata": {
        "id": "Nq02mcGVafr_"
      },
      "execution_count": null,
      "outputs": []
    },
    {
      "cell_type": "code",
      "source": [
        "df['tokenized_sents'].head()"
      ],
      "metadata": {
        "colab": {
          "base_uri": "https://localhost:8080/"
        },
        "id": "50XPiipkAcZt",
        "outputId": "da7c477f-7aea-4a87-be3e-cd2f39287160"
      },
      "execution_count": null,
      "outputs": [
        {
          "output_type": "execute_result",
          "data": {
            "text/plain": [
              "0    [Big, Data, To, begin, with, I, shall, first, ...\n",
              "1    [Analytics, is, a, statistical, scientific, pr...\n",
              "2    [Quality, and, affordable, healthcare, is, a, ...\n",
              "3    [What, Is, an, Investment, An, investment, is,...\n",
              "4    [Reconciling, with, the, financial, realities,...\n",
              "Name: tokenized_sents, dtype: object"
            ]
          },
          "metadata": {},
          "execution_count": 42
        }
      ]
    },
    {
      "cell_type": "code",
      "source": [
        "df['total_len'] = df['tokenized_sents'].map(lambda x: len(x))"
      ],
      "metadata": {
        "id": "_wUWCxwmLObA"
      },
      "execution_count": null,
      "outputs": []
    },
    {
      "cell_type": "markdown",
      "source": [
        "# CALCULATING SCORES"
      ],
      "metadata": {
        "id": "ImntdvsCLjHs"
      }
    },
    {
      "cell_type": "markdown",
      "source": [
        "### 1) POSITIVE SCORE"
      ],
      "metadata": {
        "id": "LEV13sFhOtdZ"
      }
    },
    {
      "cell_type": "code",
      "source": [
        "num_pos = df['tokenized_sents'].map(lambda x: len([i for i in x if i in pos]))\n",
        "df['positive_score'] = num_pos\n"
      ],
      "metadata": {
        "id": "qBJUnkLD8TTi"
      },
      "execution_count": null,
      "outputs": []
    },
    {
      "cell_type": "markdown",
      "source": [
        "### 2) NEGATIVE SCORE"
      ],
      "metadata": {
        "id": "TbnTPNmaPFZY"
      }
    },
    {
      "cell_type": "code",
      "source": [
        "num_neg = df['tokenized_sents'].map(lambda x: len([i for i in x if i in neg]))\n",
        "df['negative_score'] = num_neg"
      ],
      "metadata": {
        "id": "NW-BmJrrLITJ"
      },
      "execution_count": null,
      "outputs": []
    },
    {
      "cell_type": "markdown",
      "source": [
        "### 3) POLARITY SCORE"
      ],
      "metadata": {
        "id": "nOzdsFrmPs0Q"
      }
    },
    {
      "cell_type": "code",
      "source": [
        "#Polarity Score formula = (Positive Score – Negative Score)/ ((Positive Score + Negative Score) + 0.000001)\n",
        "Polarity_Score=(num_pos-num_neg)/((num_pos+num_neg)+0.000001)\n",
        "df['Polarity_Score'] = Polarity_Score"
      ],
      "metadata": {
        "id": "9dpYkSQ2hH3s"
      },
      "execution_count": null,
      "outputs": []
    },
    {
      "cell_type": "markdown",
      "source": [
        "### 4) SUBJECTIVITY SCORE"
      ],
      "metadata": {
        "id": "ROhnqKrnSLtv"
      }
    },
    {
      "cell_type": "code",
      "source": [
        "#Subjectivity Score formula = (Positive Score + Negative Score)/ ((Total Words after cleaning) + 0.000001)\n",
        "subjectiivity_score=(num_pos-num_neg)/((len(df['tokenized_sents']))+ 0.000001)\n",
        "df['subjectiivity_score'] = subjectiivity_score"
      ],
      "metadata": {
        "id": "FWLTdqkgSMBM"
      },
      "execution_count": null,
      "outputs": []
    },
    {
      "cell_type": "markdown",
      "source": [
        "### 5) AVG SENTENCE LENGTH"
      ],
      "metadata": {
        "id": "9TQxzV5EU1rz"
      }
    },
    {
      "cell_type": "code",
      "source": [
        "sum_of_length_of_sents = sum(df['total_len'].values)"
      ],
      "metadata": {
        "id": "Ey7K688EJzCE"
      },
      "execution_count": null,
      "outputs": []
    },
    {
      "cell_type": "code",
      "source": [
        "sum_of_length_of_sents"
      ],
      "metadata": {
        "colab": {
          "base_uri": "https://localhost:8080/"
        },
        "id": "GWudgwOnJ-Fi",
        "outputId": "fb0e1a57-100e-42ab-9306-aadc8939582b"
      },
      "execution_count": null,
      "outputs": [
        {
          "output_type": "execute_result",
          "data": {
            "text/plain": [
              "136573"
            ]
          },
          "metadata": {},
          "execution_count": 49
        }
      ]
    },
    {
      "cell_type": "code",
      "source": [
        "length_of_sentence = []\n",
        "for i in df['total_len']:\n",
        "  length_of_sentence.append(i)"
      ],
      "metadata": {
        "id": "MYfvDbBEH05k"
      },
      "execution_count": null,
      "outputs": []
    },
    {
      "cell_type": "code",
      "source": [
        "avg_sents_length=sum_of_length_of_sents / length_of_sentence\n",
        "df['avg_senetence_length'] = avg_sents_length"
      ],
      "metadata": {
        "id": "E5BAXsssHO7M"
      },
      "execution_count": null,
      "outputs": []
    },
    {
      "cell_type": "markdown",
      "source": [
        "### 6) PERCENTAGE OF COMPLEX WORDS"
      ],
      "metadata": {
        "id": "90O5o3FHa0Ql"
      }
    },
    {
      "cell_type": "code",
      "source": [
        "#complex word individual count\n",
        "vowels=['a','e','i','o','u']\n",
        "import re\n",
        "count=0\n",
        "complex_Word_Count=0\n",
        "for i in str(df['tokenized_sents']):\n",
        "  x=re.compile('[es|ed]$')\n",
        "  if x.match(i.lower()):\n",
        "   count+=0\n",
        "  else:\n",
        "    for j in str(df['tokenized_sents']):\n",
        "      if(j.lower() in vowels ):\n",
        "        count+=1\n",
        "  if(count>2):\n",
        "   complex_Word_Count+=1\n",
        "  count=0\n"
      ],
      "metadata": {
        "id": "9Wx95gemUK9X"
      },
      "execution_count": null,
      "outputs": []
    },
    {
      "cell_type": "code",
      "source": [
        "Percentage_of_Complex_words=complex_Word_Count/df['total_len']\n",
        "df['Percentage_of_Complex_words'] = Percentage_of_Complex_words"
      ],
      "metadata": {
        "id": "4KfZE9shUK6H"
      },
      "execution_count": null,
      "outputs": []
    },
    {
      "cell_type": "markdown",
      "source": [
        "### 7) FOG INDEX"
      ],
      "metadata": {
        "id": "wSn_zCTlgMTF"
      }
    },
    {
      "cell_type": "code",
      "source": [
        "#Fog Index formula = 0.4 * (Average Sentence Length + Percentage of Complex words)\n",
        "Fog_Index = 0.4 * (avg_sents_length + Percentage_of_Complex_words)\n",
        "df['Fog_Index'] = Fog_Index"
      ],
      "metadata": {
        "id": "xd_zHORCflz8"
      },
      "execution_count": null,
      "outputs": []
    },
    {
      "cell_type": "markdown",
      "source": [
        "### 8) AVG NUMBER OF WORDS PER SENTENCE"
      ],
      "metadata": {
        "id": "z6tbgChOg0MT"
      }
    },
    {
      "cell_type": "code",
      "source": [
        "\n",
        "avg_no_of_words_per_sentence=df['total_len']/ df.shape[0]\n",
        "df['avg_no_of_words_per_sentence'] = avg_no_of_words_per_sentence"
      ],
      "metadata": {
        "id": "2NjRGOeWh3ih"
      },
      "execution_count": null,
      "outputs": []
    },
    {
      "cell_type": "markdown",
      "source": [
        "### 9) COMPLEX WORD COUNT"
      ],
      "metadata": {
        "id": "0gERUJr_lR4L"
      }
    },
    {
      "cell_type": "code",
      "source": [
        "def count_complex_words(word):  \n",
        "  vowels=['a','e','i','o','u']\n",
        "  import re\n",
        "  count=0\n",
        "  complex_Word_Count=0\n",
        "  for i in word:\n",
        "    x=re.compile('[es|ed]$')\n",
        "    if x.match(i.lower()):\n",
        "     count+=0\n",
        "    else:\n",
        "      for j in i:\n",
        "        if(j.lower() in vowels ):\n",
        "          count+=1\n",
        "    if(count>2):\n",
        "     complex_Word_Count+=1\n",
        "    count=0\n",
        "  return complex_Word_Count"
      ],
      "metadata": {
        "id": "yi3Rh84IoXoR"
      },
      "execution_count": null,
      "outputs": []
    },
    {
      "cell_type": "code",
      "source": [
        "df['complex_Word_Count'] = df['tokenized_sents'].apply(lambda x: count_complex_words((x)))"
      ],
      "metadata": {
        "id": "My92r2nWpdkU"
      },
      "execution_count": null,
      "outputs": []
    },
    {
      "cell_type": "code",
      "source": [
        "df.head()"
      ],
      "metadata": {
        "colab": {
          "base_uri": "https://localhost:8080/",
          "height": 583
        },
        "id": "9eVAt0Tunibo",
        "outputId": "44863667-a07b-4508-b9cb-5c74a40bca6e"
      },
      "execution_count": null,
      "outputs": [
        {
          "output_type": "execute_result",
          "data": {
            "text/plain": [
              "                                                data  \\\n",
              "0  Big Data To begin with I shall first like to e...   \n",
              "1  Analytics is a statistical scientific process ...   \n",
              "2  Quality and affordable healthcare is a vision ...   \n",
              "3  What Is an Investment An investment is a resou...   \n",
              "4  Reconciling with the financial realities of an...   \n",
              "\n",
              "                                     tokenized_sents  total_len  \\\n",
              "0  [Big, Data, To, begin, with, I, shall, first, ...       1111   \n",
              "1  [Analytics, is, a, statistical, scientific, pr...        759   \n",
              "2  [Quality, and, affordable, healthcare, is, a, ...       1247   \n",
              "3  [What, Is, an, Investment, An, investment, is,...       1660   \n",
              "4  [Reconciling, with, the, financial, realities,...        976   \n",
              "\n",
              "   positive_score  negative_score  Polarity_Score  subjectiivity_score  \\\n",
              "0              45              39        0.071429             0.054545   \n",
              "1              33               4        0.783784             0.263636   \n",
              "2              30              44       -0.189189            -0.127273   \n",
              "3              47              12        0.593220             0.318182   \n",
              "4              29              28        0.017544             0.009091   \n",
              "\n",
              "   avg_senetence_length  Percentage_of_Complex_words  Fog_Index  \\\n",
              "0            122.927993                     0.549955  49.391179   \n",
              "1            179.938076                     0.805007  72.297233   \n",
              "2            109.521251                     0.489976  44.004491   \n",
              "3             82.272892                     0.368072  33.056386   \n",
              "4            139.931352                     0.626025  56.222951   \n",
              "\n",
              "   avg_no_of_words_per_sentence  complex_Word_Count  \n",
              "0                     10.100000                 276  \n",
              "1                      6.900000                 256  \n",
              "2                     11.336364                 363  \n",
              "3                     15.090909                 451  \n",
              "4                      8.872727                 262  "
            ],
            "text/html": [
              "\n",
              "  <div id=\"df-70132cd3-42c5-449f-baba-96460ba3279a\">\n",
              "    <div class=\"colab-df-container\">\n",
              "      <div>\n",
              "<style scoped>\n",
              "    .dataframe tbody tr th:only-of-type {\n",
              "        vertical-align: middle;\n",
              "    }\n",
              "\n",
              "    .dataframe tbody tr th {\n",
              "        vertical-align: top;\n",
              "    }\n",
              "\n",
              "    .dataframe thead th {\n",
              "        text-align: right;\n",
              "    }\n",
              "</style>\n",
              "<table border=\"1\" class=\"dataframe\">\n",
              "  <thead>\n",
              "    <tr style=\"text-align: right;\">\n",
              "      <th></th>\n",
              "      <th>data</th>\n",
              "      <th>tokenized_sents</th>\n",
              "      <th>total_len</th>\n",
              "      <th>positive_score</th>\n",
              "      <th>negative_score</th>\n",
              "      <th>Polarity_Score</th>\n",
              "      <th>subjectiivity_score</th>\n",
              "      <th>avg_senetence_length</th>\n",
              "      <th>Percentage_of_Complex_words</th>\n",
              "      <th>Fog_Index</th>\n",
              "      <th>avg_no_of_words_per_sentence</th>\n",
              "      <th>complex_Word_Count</th>\n",
              "    </tr>\n",
              "  </thead>\n",
              "  <tbody>\n",
              "    <tr>\n",
              "      <th>0</th>\n",
              "      <td>Big Data To begin with I shall first like to e...</td>\n",
              "      <td>[Big, Data, To, begin, with, I, shall, first, ...</td>\n",
              "      <td>1111</td>\n",
              "      <td>45</td>\n",
              "      <td>39</td>\n",
              "      <td>0.071429</td>\n",
              "      <td>0.054545</td>\n",
              "      <td>122.927993</td>\n",
              "      <td>0.549955</td>\n",
              "      <td>49.391179</td>\n",
              "      <td>10.100000</td>\n",
              "      <td>276</td>\n",
              "    </tr>\n",
              "    <tr>\n",
              "      <th>1</th>\n",
              "      <td>Analytics is a statistical scientific process ...</td>\n",
              "      <td>[Analytics, is, a, statistical, scientific, pr...</td>\n",
              "      <td>759</td>\n",
              "      <td>33</td>\n",
              "      <td>4</td>\n",
              "      <td>0.783784</td>\n",
              "      <td>0.263636</td>\n",
              "      <td>179.938076</td>\n",
              "      <td>0.805007</td>\n",
              "      <td>72.297233</td>\n",
              "      <td>6.900000</td>\n",
              "      <td>256</td>\n",
              "    </tr>\n",
              "    <tr>\n",
              "      <th>2</th>\n",
              "      <td>Quality and affordable healthcare is a vision ...</td>\n",
              "      <td>[Quality, and, affordable, healthcare, is, a, ...</td>\n",
              "      <td>1247</td>\n",
              "      <td>30</td>\n",
              "      <td>44</td>\n",
              "      <td>-0.189189</td>\n",
              "      <td>-0.127273</td>\n",
              "      <td>109.521251</td>\n",
              "      <td>0.489976</td>\n",
              "      <td>44.004491</td>\n",
              "      <td>11.336364</td>\n",
              "      <td>363</td>\n",
              "    </tr>\n",
              "    <tr>\n",
              "      <th>3</th>\n",
              "      <td>What Is an Investment An investment is a resou...</td>\n",
              "      <td>[What, Is, an, Investment, An, investment, is,...</td>\n",
              "      <td>1660</td>\n",
              "      <td>47</td>\n",
              "      <td>12</td>\n",
              "      <td>0.593220</td>\n",
              "      <td>0.318182</td>\n",
              "      <td>82.272892</td>\n",
              "      <td>0.368072</td>\n",
              "      <td>33.056386</td>\n",
              "      <td>15.090909</td>\n",
              "      <td>451</td>\n",
              "    </tr>\n",
              "    <tr>\n",
              "      <th>4</th>\n",
              "      <td>Reconciling with the financial realities of an...</td>\n",
              "      <td>[Reconciling, with, the, financial, realities,...</td>\n",
              "      <td>976</td>\n",
              "      <td>29</td>\n",
              "      <td>28</td>\n",
              "      <td>0.017544</td>\n",
              "      <td>0.009091</td>\n",
              "      <td>139.931352</td>\n",
              "      <td>0.626025</td>\n",
              "      <td>56.222951</td>\n",
              "      <td>8.872727</td>\n",
              "      <td>262</td>\n",
              "    </tr>\n",
              "  </tbody>\n",
              "</table>\n",
              "</div>\n",
              "      <button class=\"colab-df-convert\" onclick=\"convertToInteractive('df-70132cd3-42c5-449f-baba-96460ba3279a')\"\n",
              "              title=\"Convert this dataframe to an interactive table.\"\n",
              "              style=\"display:none;\">\n",
              "        \n",
              "  <svg xmlns=\"http://www.w3.org/2000/svg\" height=\"24px\"viewBox=\"0 0 24 24\"\n",
              "       width=\"24px\">\n",
              "    <path d=\"M0 0h24v24H0V0z\" fill=\"none\"/>\n",
              "    <path d=\"M18.56 5.44l.94 2.06.94-2.06 2.06-.94-2.06-.94-.94-2.06-.94 2.06-2.06.94zm-11 1L8.5 8.5l.94-2.06 2.06-.94-2.06-.94L8.5 2.5l-.94 2.06-2.06.94zm10 10l.94 2.06.94-2.06 2.06-.94-2.06-.94-.94-2.06-.94 2.06-2.06.94z\"/><path d=\"M17.41 7.96l-1.37-1.37c-.4-.4-.92-.59-1.43-.59-.52 0-1.04.2-1.43.59L10.3 9.45l-7.72 7.72c-.78.78-.78 2.05 0 2.83L4 21.41c.39.39.9.59 1.41.59.51 0 1.02-.2 1.41-.59l7.78-7.78 2.81-2.81c.8-.78.8-2.07 0-2.86zM5.41 20L4 18.59l7.72-7.72 1.47 1.35L5.41 20z\"/>\n",
              "  </svg>\n",
              "      </button>\n",
              "      \n",
              "  <style>\n",
              "    .colab-df-container {\n",
              "      display:flex;\n",
              "      flex-wrap:wrap;\n",
              "      gap: 12px;\n",
              "    }\n",
              "\n",
              "    .colab-df-convert {\n",
              "      background-color: #E8F0FE;\n",
              "      border: none;\n",
              "      border-radius: 50%;\n",
              "      cursor: pointer;\n",
              "      display: none;\n",
              "      fill: #1967D2;\n",
              "      height: 32px;\n",
              "      padding: 0 0 0 0;\n",
              "      width: 32px;\n",
              "    }\n",
              "\n",
              "    .colab-df-convert:hover {\n",
              "      background-color: #E2EBFA;\n",
              "      box-shadow: 0px 1px 2px rgba(60, 64, 67, 0.3), 0px 1px 3px 1px rgba(60, 64, 67, 0.15);\n",
              "      fill: #174EA6;\n",
              "    }\n",
              "\n",
              "    [theme=dark] .colab-df-convert {\n",
              "      background-color: #3B4455;\n",
              "      fill: #D2E3FC;\n",
              "    }\n",
              "\n",
              "    [theme=dark] .colab-df-convert:hover {\n",
              "      background-color: #434B5C;\n",
              "      box-shadow: 0px 1px 3px 1px rgba(0, 0, 0, 0.15);\n",
              "      filter: drop-shadow(0px 1px 2px rgba(0, 0, 0, 0.3));\n",
              "      fill: #FFFFFF;\n",
              "    }\n",
              "  </style>\n",
              "\n",
              "      <script>\n",
              "        const buttonEl =\n",
              "          document.querySelector('#df-70132cd3-42c5-449f-baba-96460ba3279a button.colab-df-convert');\n",
              "        buttonEl.style.display =\n",
              "          google.colab.kernel.accessAllowed ? 'block' : 'none';\n",
              "\n",
              "        async function convertToInteractive(key) {\n",
              "          const element = document.querySelector('#df-70132cd3-42c5-449f-baba-96460ba3279a');\n",
              "          const dataTable =\n",
              "            await google.colab.kernel.invokeFunction('convertToInteractive',\n",
              "                                                     [key], {});\n",
              "          if (!dataTable) return;\n",
              "\n",
              "          const docLinkHtml = 'Like what you see? Visit the ' +\n",
              "            '<a target=\"_blank\" href=https://colab.research.google.com/notebooks/data_table.ipynb>data table notebook</a>'\n",
              "            + ' to learn more about interactive tables.';\n",
              "          element.innerHTML = '';\n",
              "          dataTable['output_type'] = 'display_data';\n",
              "          await google.colab.output.renderOutput(dataTable, element);\n",
              "          const docLink = document.createElement('div');\n",
              "          docLink.innerHTML = docLinkHtml;\n",
              "          element.appendChild(docLink);\n",
              "        }\n",
              "      </script>\n",
              "    </div>\n",
              "  </div>\n",
              "  "
            ]
          },
          "metadata": {},
          "execution_count": 58
        }
      ]
    },
    {
      "cell_type": "markdown",
      "source": [
        "### 10) WORD COUNT"
      ],
      "metadata": {
        "id": "EDbM2keclqrj"
      }
    },
    {
      "cell_type": "code",
      "source": [
        "df['word_count'] = df['tokenized_sents'].map(lambda x: len(x))"
      ],
      "metadata": {
        "id": "DEAJBbA5IrcZ"
      },
      "execution_count": null,
      "outputs": []
    },
    {
      "cell_type": "markdown",
      "source": [
        "### 11) SYLLABLE PER WORD"
      ],
      "metadata": {
        "id": "zfqS5QdcmAdK"
      }
    },
    {
      "cell_type": "code",
      "source": [
        "def syllable_count(word):\n",
        "    word = word.lower()\n",
        "    count = 0\n",
        "    vowels = \"aeiouy\"\n",
        "    if word[0] in vowels:\n",
        "        count += 1\n",
        "    for index in range(1, len(word)):\n",
        "        if word[index] in vowels and word[index - 1] not in vowels:\n",
        "            count += 1\n",
        "    if word.endswith(\"e\"):\n",
        "        count -= 1\n",
        "    if count == 0:\n",
        "        count += 1\n",
        "    return count"
      ],
      "metadata": {
        "id": "0eKx7DzVnoN8"
      },
      "execution_count": null,
      "outputs": []
    },
    {
      "cell_type": "code",
      "source": [
        "df['syllable_count'] = df['tokenized_sents'].apply(lambda x: syllable_count(str(x)))"
      ],
      "metadata": {
        "id": "EbXIgqy0onL9"
      },
      "execution_count": null,
      "outputs": []
    },
    {
      "cell_type": "markdown",
      "source": [
        "### 12) PERSONAL PRONOUNS"
      ],
      "metadata": {
        "id": "BcBCr8CtmuoS"
      }
    },
    {
      "cell_type": "code",
      "source": [
        "def pronoun_count(word):  \n",
        "  pronouns=['i','we','my','ours','us' ]\n",
        "  import re\n",
        "  count=0\n",
        "  for i in word:\n",
        "    if i.lower() in pronouns:\n",
        "      count+=1\n",
        "  return count"
      ],
      "metadata": {
        "id": "aeRcGapymu-D"
      },
      "execution_count": null,
      "outputs": []
    },
    {
      "cell_type": "code",
      "source": [
        "df['personal_pronouns'] = df['tokenized_sents'].apply(lambda x: pronoun_count((x)))"
      ],
      "metadata": {
        "id": "6Q7EFkDlm2a0"
      },
      "execution_count": null,
      "outputs": []
    },
    {
      "cell_type": "code",
      "source": [
        "df.head()"
      ],
      "metadata": {
        "colab": {
          "base_uri": "https://localhost:8080/",
          "height": 583
        },
        "id": "JfCVPMNNw9Ta",
        "outputId": "5817069c-c46a-4e55-e71e-b80c4ee4f5ee"
      },
      "execution_count": null,
      "outputs": [
        {
          "output_type": "execute_result",
          "data": {
            "text/plain": [
              "                                                data  \\\n",
              "0  Big Data To begin with I shall first like to e...   \n",
              "1  Analytics is a statistical scientific process ...   \n",
              "2  Quality and affordable healthcare is a vision ...   \n",
              "3  What Is an Investment An investment is a resou...   \n",
              "4  Reconciling with the financial realities of an...   \n",
              "\n",
              "                                     tokenized_sents  total_len  \\\n",
              "0  [Big, Data, To, begin, with, I, shall, first, ...       1111   \n",
              "1  [Analytics, is, a, statistical, scientific, pr...        759   \n",
              "2  [Quality, and, affordable, healthcare, is, a, ...       1247   \n",
              "3  [What, Is, an, Investment, An, investment, is,...       1660   \n",
              "4  [Reconciling, with, the, financial, realities,...        976   \n",
              "\n",
              "   positive_score  negative_score  Polarity_Score  subjectiivity_score  \\\n",
              "0              45              39        0.071429             0.054545   \n",
              "1              33               4        0.783784             0.263636   \n",
              "2              30              44       -0.189189            -0.127273   \n",
              "3              47              12        0.593220             0.318182   \n",
              "4              29              28        0.017544             0.009091   \n",
              "\n",
              "   avg_senetence_length  Percentage_of_Complex_words  Fog_Index  \\\n",
              "0            122.927993                     0.549955  49.391179   \n",
              "1            179.938076                     0.805007  72.297233   \n",
              "2            109.521251                     0.489976  44.004491   \n",
              "3             82.272892                     0.368072  33.056386   \n",
              "4            139.931352                     0.626025  56.222951   \n",
              "\n",
              "   avg_no_of_words_per_sentence  complex_Word_Count  word_count  \\\n",
              "0                     10.100000                 276        1111   \n",
              "1                      6.900000                 256         759   \n",
              "2                     11.336364                 363        1247   \n",
              "3                     15.090909                 451        1660   \n",
              "4                      8.872727                 262         976   \n",
              "\n",
              "   syllable_count  personal_pronouns  avg_word_length  \n",
              "0            1942                  8         4.801980  \n",
              "1            1461                  0         5.440053  \n",
              "2            2147                  2         4.801925  \n",
              "3            2778                 18         4.894578  \n",
              "4            1697                  9         5.100410  "
            ],
            "text/html": [
              "\n",
              "  <div id=\"df-502be56e-8a2e-449a-96b5-489e712851cd\">\n",
              "    <div class=\"colab-df-container\">\n",
              "      <div>\n",
              "<style scoped>\n",
              "    .dataframe tbody tr th:only-of-type {\n",
              "        vertical-align: middle;\n",
              "    }\n",
              "\n",
              "    .dataframe tbody tr th {\n",
              "        vertical-align: top;\n",
              "    }\n",
              "\n",
              "    .dataframe thead th {\n",
              "        text-align: right;\n",
              "    }\n",
              "</style>\n",
              "<table border=\"1\" class=\"dataframe\">\n",
              "  <thead>\n",
              "    <tr style=\"text-align: right;\">\n",
              "      <th></th>\n",
              "      <th>data</th>\n",
              "      <th>tokenized_sents</th>\n",
              "      <th>total_len</th>\n",
              "      <th>positive_score</th>\n",
              "      <th>negative_score</th>\n",
              "      <th>Polarity_Score</th>\n",
              "      <th>subjectiivity_score</th>\n",
              "      <th>avg_senetence_length</th>\n",
              "      <th>Percentage_of_Complex_words</th>\n",
              "      <th>Fog_Index</th>\n",
              "      <th>avg_no_of_words_per_sentence</th>\n",
              "      <th>complex_Word_Count</th>\n",
              "      <th>word_count</th>\n",
              "      <th>syllable_count</th>\n",
              "      <th>personal_pronouns</th>\n",
              "      <th>avg_word_length</th>\n",
              "    </tr>\n",
              "  </thead>\n",
              "  <tbody>\n",
              "    <tr>\n",
              "      <th>0</th>\n",
              "      <td>Big Data To begin with I shall first like to e...</td>\n",
              "      <td>[Big, Data, To, begin, with, I, shall, first, ...</td>\n",
              "      <td>1111</td>\n",
              "      <td>45</td>\n",
              "      <td>39</td>\n",
              "      <td>0.071429</td>\n",
              "      <td>0.054545</td>\n",
              "      <td>122.927993</td>\n",
              "      <td>0.549955</td>\n",
              "      <td>49.391179</td>\n",
              "      <td>10.100000</td>\n",
              "      <td>276</td>\n",
              "      <td>1111</td>\n",
              "      <td>1942</td>\n",
              "      <td>8</td>\n",
              "      <td>4.801980</td>\n",
              "    </tr>\n",
              "    <tr>\n",
              "      <th>1</th>\n",
              "      <td>Analytics is a statistical scientific process ...</td>\n",
              "      <td>[Analytics, is, a, statistical, scientific, pr...</td>\n",
              "      <td>759</td>\n",
              "      <td>33</td>\n",
              "      <td>4</td>\n",
              "      <td>0.783784</td>\n",
              "      <td>0.263636</td>\n",
              "      <td>179.938076</td>\n",
              "      <td>0.805007</td>\n",
              "      <td>72.297233</td>\n",
              "      <td>6.900000</td>\n",
              "      <td>256</td>\n",
              "      <td>759</td>\n",
              "      <td>1461</td>\n",
              "      <td>0</td>\n",
              "      <td>5.440053</td>\n",
              "    </tr>\n",
              "    <tr>\n",
              "      <th>2</th>\n",
              "      <td>Quality and affordable healthcare is a vision ...</td>\n",
              "      <td>[Quality, and, affordable, healthcare, is, a, ...</td>\n",
              "      <td>1247</td>\n",
              "      <td>30</td>\n",
              "      <td>44</td>\n",
              "      <td>-0.189189</td>\n",
              "      <td>-0.127273</td>\n",
              "      <td>109.521251</td>\n",
              "      <td>0.489976</td>\n",
              "      <td>44.004491</td>\n",
              "      <td>11.336364</td>\n",
              "      <td>363</td>\n",
              "      <td>1247</td>\n",
              "      <td>2147</td>\n",
              "      <td>2</td>\n",
              "      <td>4.801925</td>\n",
              "    </tr>\n",
              "    <tr>\n",
              "      <th>3</th>\n",
              "      <td>What Is an Investment An investment is a resou...</td>\n",
              "      <td>[What, Is, an, Investment, An, investment, is,...</td>\n",
              "      <td>1660</td>\n",
              "      <td>47</td>\n",
              "      <td>12</td>\n",
              "      <td>0.593220</td>\n",
              "      <td>0.318182</td>\n",
              "      <td>82.272892</td>\n",
              "      <td>0.368072</td>\n",
              "      <td>33.056386</td>\n",
              "      <td>15.090909</td>\n",
              "      <td>451</td>\n",
              "      <td>1660</td>\n",
              "      <td>2778</td>\n",
              "      <td>18</td>\n",
              "      <td>4.894578</td>\n",
              "    </tr>\n",
              "    <tr>\n",
              "      <th>4</th>\n",
              "      <td>Reconciling with the financial realities of an...</td>\n",
              "      <td>[Reconciling, with, the, financial, realities,...</td>\n",
              "      <td>976</td>\n",
              "      <td>29</td>\n",
              "      <td>28</td>\n",
              "      <td>0.017544</td>\n",
              "      <td>0.009091</td>\n",
              "      <td>139.931352</td>\n",
              "      <td>0.626025</td>\n",
              "      <td>56.222951</td>\n",
              "      <td>8.872727</td>\n",
              "      <td>262</td>\n",
              "      <td>976</td>\n",
              "      <td>1697</td>\n",
              "      <td>9</td>\n",
              "      <td>5.100410</td>\n",
              "    </tr>\n",
              "  </tbody>\n",
              "</table>\n",
              "</div>\n",
              "      <button class=\"colab-df-convert\" onclick=\"convertToInteractive('df-502be56e-8a2e-449a-96b5-489e712851cd')\"\n",
              "              title=\"Convert this dataframe to an interactive table.\"\n",
              "              style=\"display:none;\">\n",
              "        \n",
              "  <svg xmlns=\"http://www.w3.org/2000/svg\" height=\"24px\"viewBox=\"0 0 24 24\"\n",
              "       width=\"24px\">\n",
              "    <path d=\"M0 0h24v24H0V0z\" fill=\"none\"/>\n",
              "    <path d=\"M18.56 5.44l.94 2.06.94-2.06 2.06-.94-2.06-.94-.94-2.06-.94 2.06-2.06.94zm-11 1L8.5 8.5l.94-2.06 2.06-.94-2.06-.94L8.5 2.5l-.94 2.06-2.06.94zm10 10l.94 2.06.94-2.06 2.06-.94-2.06-.94-.94-2.06-.94 2.06-2.06.94z\"/><path d=\"M17.41 7.96l-1.37-1.37c-.4-.4-.92-.59-1.43-.59-.52 0-1.04.2-1.43.59L10.3 9.45l-7.72 7.72c-.78.78-.78 2.05 0 2.83L4 21.41c.39.39.9.59 1.41.59.51 0 1.02-.2 1.41-.59l7.78-7.78 2.81-2.81c.8-.78.8-2.07 0-2.86zM5.41 20L4 18.59l7.72-7.72 1.47 1.35L5.41 20z\"/>\n",
              "  </svg>\n",
              "      </button>\n",
              "      \n",
              "  <style>\n",
              "    .colab-df-container {\n",
              "      display:flex;\n",
              "      flex-wrap:wrap;\n",
              "      gap: 12px;\n",
              "    }\n",
              "\n",
              "    .colab-df-convert {\n",
              "      background-color: #E8F0FE;\n",
              "      border: none;\n",
              "      border-radius: 50%;\n",
              "      cursor: pointer;\n",
              "      display: none;\n",
              "      fill: #1967D2;\n",
              "      height: 32px;\n",
              "      padding: 0 0 0 0;\n",
              "      width: 32px;\n",
              "    }\n",
              "\n",
              "    .colab-df-convert:hover {\n",
              "      background-color: #E2EBFA;\n",
              "      box-shadow: 0px 1px 2px rgba(60, 64, 67, 0.3), 0px 1px 3px 1px rgba(60, 64, 67, 0.15);\n",
              "      fill: #174EA6;\n",
              "    }\n",
              "\n",
              "    [theme=dark] .colab-df-convert {\n",
              "      background-color: #3B4455;\n",
              "      fill: #D2E3FC;\n",
              "    }\n",
              "\n",
              "    [theme=dark] .colab-df-convert:hover {\n",
              "      background-color: #434B5C;\n",
              "      box-shadow: 0px 1px 3px 1px rgba(0, 0, 0, 0.15);\n",
              "      filter: drop-shadow(0px 1px 2px rgba(0, 0, 0, 0.3));\n",
              "      fill: #FFFFFF;\n",
              "    }\n",
              "  </style>\n",
              "\n",
              "      <script>\n",
              "        const buttonEl =\n",
              "          document.querySelector('#df-502be56e-8a2e-449a-96b5-489e712851cd button.colab-df-convert');\n",
              "        buttonEl.style.display =\n",
              "          google.colab.kernel.accessAllowed ? 'block' : 'none';\n",
              "\n",
              "        async function convertToInteractive(key) {\n",
              "          const element = document.querySelector('#df-502be56e-8a2e-449a-96b5-489e712851cd');\n",
              "          const dataTable =\n",
              "            await google.colab.kernel.invokeFunction('convertToInteractive',\n",
              "                                                     [key], {});\n",
              "          if (!dataTable) return;\n",
              "\n",
              "          const docLinkHtml = 'Like what you see? Visit the ' +\n",
              "            '<a target=\"_blank\" href=https://colab.research.google.com/notebooks/data_table.ipynb>data table notebook</a>'\n",
              "            + ' to learn more about interactive tables.';\n",
              "          element.innerHTML = '';\n",
              "          dataTable['output_type'] = 'display_data';\n",
              "          await google.colab.output.renderOutput(dataTable, element);\n",
              "          const docLink = document.createElement('div');\n",
              "          docLink.innerHTML = docLinkHtml;\n",
              "          element.appendChild(docLink);\n",
              "        }\n",
              "      </script>\n",
              "    </div>\n",
              "  </div>\n",
              "  "
            ]
          },
          "metadata": {},
          "execution_count": 82
        }
      ]
    },
    {
      "cell_type": "markdown",
      "source": [
        "### 13) AVG WORD LENGTH"
      ],
      "metadata": {
        "id": "-uWlAk9roY5y"
      }
    },
    {
      "cell_type": "code",
      "source": [
        "def word_count_number(sentence):\n",
        "  count=0\n",
        "  for i in (sentence):\n",
        "    for j in i:\n",
        "      for k in j:\n",
        "        count += 1\n",
        "  return count"
      ],
      "metadata": {
        "id": "_Dx9rtiNeVPJ"
      },
      "execution_count": null,
      "outputs": []
    },
    {
      "cell_type": "code",
      "source": [
        "df['number_of_words'] = df['tokenized_sents'].apply(lambda x: word_count_number((x)))"
      ],
      "metadata": {
        "id": "fPfDxAwmgFgb"
      },
      "execution_count": null,
      "outputs": []
    },
    {
      "cell_type": "code",
      "source": [
        "df['avg_word_length'] = df['number_of_words']/df['word_count']"
      ],
      "metadata": {
        "id": "JZRW9ddgeVMI"
      },
      "execution_count": null,
      "outputs": []
    },
    {
      "cell_type": "code",
      "source": [
        "df.drop(columns = (['number_of_words']), inplace = True)"
      ],
      "metadata": {
        "id": "YBR3QeHkk0sT"
      },
      "execution_count": null,
      "outputs": []
    },
    {
      "cell_type": "code",
      "source": [
        "output=df.copy()"
      ],
      "metadata": {
        "id": "DXp7kF2FExVD"
      },
      "execution_count": null,
      "outputs": []
    },
    {
      "cell_type": "code",
      "source": [
        "output.head()"
      ],
      "metadata": {
        "colab": {
          "base_uri": "https://localhost:8080/",
          "height": 583
        },
        "id": "9MQXwRmsGKID",
        "outputId": "bb3c9c3d-9f64-4c97-d075-368afcfff177"
      },
      "execution_count": null,
      "outputs": [
        {
          "output_type": "execute_result",
          "data": {
            "text/plain": [
              "                                                data  \\\n",
              "0  Big Data To begin with I shall first like to e...   \n",
              "1  Analytics is a statistical scientific process ...   \n",
              "2  Quality and affordable healthcare is a vision ...   \n",
              "3  What Is an Investment An investment is a resou...   \n",
              "4  Reconciling with the financial realities of an...   \n",
              "\n",
              "                                     tokenized_sents  total_len  \\\n",
              "0  [Big, Data, To, begin, with, I, shall, first, ...       1111   \n",
              "1  [Analytics, is, a, statistical, scientific, pr...        759   \n",
              "2  [Quality, and, affordable, healthcare, is, a, ...       1247   \n",
              "3  [What, Is, an, Investment, An, investment, is,...       1660   \n",
              "4  [Reconciling, with, the, financial, realities,...        976   \n",
              "\n",
              "   positive_score  negative_score  Polarity_Score  subjectiivity_score  \\\n",
              "0              45              39        0.071429             0.054545   \n",
              "1              33               4        0.783784             0.263636   \n",
              "2              30              44       -0.189189            -0.127273   \n",
              "3              47              12        0.593220             0.318182   \n",
              "4              29              28        0.017544             0.009091   \n",
              "\n",
              "   avg_senetence_length  Percentage_of_Complex_words  Fog_Index  \\\n",
              "0            122.927993                     0.549955  49.391179   \n",
              "1            179.938076                     0.805007  72.297233   \n",
              "2            109.521251                     0.489976  44.004491   \n",
              "3             82.272892                     0.368072  33.056386   \n",
              "4            139.931352                     0.626025  56.222951   \n",
              "\n",
              "   avg_no_of_words_per_sentence  complex_Word_Count  word_count  \\\n",
              "0                     10.100000                 276        1111   \n",
              "1                      6.900000                 256         759   \n",
              "2                     11.336364                 363        1247   \n",
              "3                     15.090909                 451        1660   \n",
              "4                      8.872727                 262         976   \n",
              "\n",
              "   syllable_count  personal_pronouns  avg_word_length  \n",
              "0            1942                  8         4.801980  \n",
              "1            1461                  0         5.440053  \n",
              "2            2147                  2         4.801925  \n",
              "3            2778                 18         4.894578  \n",
              "4            1697                  9         5.100410  "
            ],
            "text/html": [
              "\n",
              "  <div id=\"df-ccd6ac51-cc08-4a5a-b716-e632daa96ee3\">\n",
              "    <div class=\"colab-df-container\">\n",
              "      <div>\n",
              "<style scoped>\n",
              "    .dataframe tbody tr th:only-of-type {\n",
              "        vertical-align: middle;\n",
              "    }\n",
              "\n",
              "    .dataframe tbody tr th {\n",
              "        vertical-align: top;\n",
              "    }\n",
              "\n",
              "    .dataframe thead th {\n",
              "        text-align: right;\n",
              "    }\n",
              "</style>\n",
              "<table border=\"1\" class=\"dataframe\">\n",
              "  <thead>\n",
              "    <tr style=\"text-align: right;\">\n",
              "      <th></th>\n",
              "      <th>data</th>\n",
              "      <th>tokenized_sents</th>\n",
              "      <th>total_len</th>\n",
              "      <th>positive_score</th>\n",
              "      <th>negative_score</th>\n",
              "      <th>Polarity_Score</th>\n",
              "      <th>subjectiivity_score</th>\n",
              "      <th>avg_senetence_length</th>\n",
              "      <th>Percentage_of_Complex_words</th>\n",
              "      <th>Fog_Index</th>\n",
              "      <th>avg_no_of_words_per_sentence</th>\n",
              "      <th>complex_Word_Count</th>\n",
              "      <th>word_count</th>\n",
              "      <th>syllable_count</th>\n",
              "      <th>personal_pronouns</th>\n",
              "      <th>avg_word_length</th>\n",
              "    </tr>\n",
              "  </thead>\n",
              "  <tbody>\n",
              "    <tr>\n",
              "      <th>0</th>\n",
              "      <td>Big Data To begin with I shall first like to e...</td>\n",
              "      <td>[Big, Data, To, begin, with, I, shall, first, ...</td>\n",
              "      <td>1111</td>\n",
              "      <td>45</td>\n",
              "      <td>39</td>\n",
              "      <td>0.071429</td>\n",
              "      <td>0.054545</td>\n",
              "      <td>122.927993</td>\n",
              "      <td>0.549955</td>\n",
              "      <td>49.391179</td>\n",
              "      <td>10.100000</td>\n",
              "      <td>276</td>\n",
              "      <td>1111</td>\n",
              "      <td>1942</td>\n",
              "      <td>8</td>\n",
              "      <td>4.801980</td>\n",
              "    </tr>\n",
              "    <tr>\n",
              "      <th>1</th>\n",
              "      <td>Analytics is a statistical scientific process ...</td>\n",
              "      <td>[Analytics, is, a, statistical, scientific, pr...</td>\n",
              "      <td>759</td>\n",
              "      <td>33</td>\n",
              "      <td>4</td>\n",
              "      <td>0.783784</td>\n",
              "      <td>0.263636</td>\n",
              "      <td>179.938076</td>\n",
              "      <td>0.805007</td>\n",
              "      <td>72.297233</td>\n",
              "      <td>6.900000</td>\n",
              "      <td>256</td>\n",
              "      <td>759</td>\n",
              "      <td>1461</td>\n",
              "      <td>0</td>\n",
              "      <td>5.440053</td>\n",
              "    </tr>\n",
              "    <tr>\n",
              "      <th>2</th>\n",
              "      <td>Quality and affordable healthcare is a vision ...</td>\n",
              "      <td>[Quality, and, affordable, healthcare, is, a, ...</td>\n",
              "      <td>1247</td>\n",
              "      <td>30</td>\n",
              "      <td>44</td>\n",
              "      <td>-0.189189</td>\n",
              "      <td>-0.127273</td>\n",
              "      <td>109.521251</td>\n",
              "      <td>0.489976</td>\n",
              "      <td>44.004491</td>\n",
              "      <td>11.336364</td>\n",
              "      <td>363</td>\n",
              "      <td>1247</td>\n",
              "      <td>2147</td>\n",
              "      <td>2</td>\n",
              "      <td>4.801925</td>\n",
              "    </tr>\n",
              "    <tr>\n",
              "      <th>3</th>\n",
              "      <td>What Is an Investment An investment is a resou...</td>\n",
              "      <td>[What, Is, an, Investment, An, investment, is,...</td>\n",
              "      <td>1660</td>\n",
              "      <td>47</td>\n",
              "      <td>12</td>\n",
              "      <td>0.593220</td>\n",
              "      <td>0.318182</td>\n",
              "      <td>82.272892</td>\n",
              "      <td>0.368072</td>\n",
              "      <td>33.056386</td>\n",
              "      <td>15.090909</td>\n",
              "      <td>451</td>\n",
              "      <td>1660</td>\n",
              "      <td>2778</td>\n",
              "      <td>18</td>\n",
              "      <td>4.894578</td>\n",
              "    </tr>\n",
              "    <tr>\n",
              "      <th>4</th>\n",
              "      <td>Reconciling with the financial realities of an...</td>\n",
              "      <td>[Reconciling, with, the, financial, realities,...</td>\n",
              "      <td>976</td>\n",
              "      <td>29</td>\n",
              "      <td>28</td>\n",
              "      <td>0.017544</td>\n",
              "      <td>0.009091</td>\n",
              "      <td>139.931352</td>\n",
              "      <td>0.626025</td>\n",
              "      <td>56.222951</td>\n",
              "      <td>8.872727</td>\n",
              "      <td>262</td>\n",
              "      <td>976</td>\n",
              "      <td>1697</td>\n",
              "      <td>9</td>\n",
              "      <td>5.100410</td>\n",
              "    </tr>\n",
              "  </tbody>\n",
              "</table>\n",
              "</div>\n",
              "      <button class=\"colab-df-convert\" onclick=\"convertToInteractive('df-ccd6ac51-cc08-4a5a-b716-e632daa96ee3')\"\n",
              "              title=\"Convert this dataframe to an interactive table.\"\n",
              "              style=\"display:none;\">\n",
              "        \n",
              "  <svg xmlns=\"http://www.w3.org/2000/svg\" height=\"24px\"viewBox=\"0 0 24 24\"\n",
              "       width=\"24px\">\n",
              "    <path d=\"M0 0h24v24H0V0z\" fill=\"none\"/>\n",
              "    <path d=\"M18.56 5.44l.94 2.06.94-2.06 2.06-.94-2.06-.94-.94-2.06-.94 2.06-2.06.94zm-11 1L8.5 8.5l.94-2.06 2.06-.94-2.06-.94L8.5 2.5l-.94 2.06-2.06.94zm10 10l.94 2.06.94-2.06 2.06-.94-2.06-.94-.94-2.06-.94 2.06-2.06.94z\"/><path d=\"M17.41 7.96l-1.37-1.37c-.4-.4-.92-.59-1.43-.59-.52 0-1.04.2-1.43.59L10.3 9.45l-7.72 7.72c-.78.78-.78 2.05 0 2.83L4 21.41c.39.39.9.59 1.41.59.51 0 1.02-.2 1.41-.59l7.78-7.78 2.81-2.81c.8-.78.8-2.07 0-2.86zM5.41 20L4 18.59l7.72-7.72 1.47 1.35L5.41 20z\"/>\n",
              "  </svg>\n",
              "      </button>\n",
              "      \n",
              "  <style>\n",
              "    .colab-df-container {\n",
              "      display:flex;\n",
              "      flex-wrap:wrap;\n",
              "      gap: 12px;\n",
              "    }\n",
              "\n",
              "    .colab-df-convert {\n",
              "      background-color: #E8F0FE;\n",
              "      border: none;\n",
              "      border-radius: 50%;\n",
              "      cursor: pointer;\n",
              "      display: none;\n",
              "      fill: #1967D2;\n",
              "      height: 32px;\n",
              "      padding: 0 0 0 0;\n",
              "      width: 32px;\n",
              "    }\n",
              "\n",
              "    .colab-df-convert:hover {\n",
              "      background-color: #E2EBFA;\n",
              "      box-shadow: 0px 1px 2px rgba(60, 64, 67, 0.3), 0px 1px 3px 1px rgba(60, 64, 67, 0.15);\n",
              "      fill: #174EA6;\n",
              "    }\n",
              "\n",
              "    [theme=dark] .colab-df-convert {\n",
              "      background-color: #3B4455;\n",
              "      fill: #D2E3FC;\n",
              "    }\n",
              "\n",
              "    [theme=dark] .colab-df-convert:hover {\n",
              "      background-color: #434B5C;\n",
              "      box-shadow: 0px 1px 3px 1px rgba(0, 0, 0, 0.15);\n",
              "      filter: drop-shadow(0px 1px 2px rgba(0, 0, 0, 0.3));\n",
              "      fill: #FFFFFF;\n",
              "    }\n",
              "  </style>\n",
              "\n",
              "      <script>\n",
              "        const buttonEl =\n",
              "          document.querySelector('#df-ccd6ac51-cc08-4a5a-b716-e632daa96ee3 button.colab-df-convert');\n",
              "        buttonEl.style.display =\n",
              "          google.colab.kernel.accessAllowed ? 'block' : 'none';\n",
              "\n",
              "        async function convertToInteractive(key) {\n",
              "          const element = document.querySelector('#df-ccd6ac51-cc08-4a5a-b716-e632daa96ee3');\n",
              "          const dataTable =\n",
              "            await google.colab.kernel.invokeFunction('convertToInteractive',\n",
              "                                                     [key], {});\n",
              "          if (!dataTable) return;\n",
              "\n",
              "          const docLinkHtml = 'Like what you see? Visit the ' +\n",
              "            '<a target=\"_blank\" href=https://colab.research.google.com/notebooks/data_table.ipynb>data table notebook</a>'\n",
              "            + ' to learn more about interactive tables.';\n",
              "          element.innerHTML = '';\n",
              "          dataTable['output_type'] = 'display_data';\n",
              "          await google.colab.output.renderOutput(dataTable, element);\n",
              "          const docLink = document.createElement('div');\n",
              "          docLink.innerHTML = docLinkHtml;\n",
              "          element.appendChild(docLink);\n",
              "        }\n",
              "      </script>\n",
              "    </div>\n",
              "  </div>\n",
              "  "
            ]
          },
          "metadata": {},
          "execution_count": 98
        }
      ]
    },
    {
      "cell_type": "code",
      "source": [],
      "metadata": {
        "id": "QZsijDXdnZUx"
      },
      "execution_count": null,
      "outputs": []
    }
  ]
}